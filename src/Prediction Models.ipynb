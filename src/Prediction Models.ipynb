{
 "cells": [
  {
   "cell_type": "code",
   "execution_count": 1,
   "metadata": {},
   "outputs": [],
   "source": [
    "matplotlib inline"
   ]
  },
  {
   "cell_type": "code",
   "execution_count": 2,
   "metadata": {},
   "outputs": [],
   "source": [
    "import os\n",
    "import numpy as np\n",
    "import pandas as pd\n",
    "\n",
    "import warnings\n",
    "warnings.filterwarnings('ignore')"
   ]
  },
  {
   "cell_type": "code",
   "execution_count": 3,
   "metadata": {},
   "outputs": [],
   "source": [
    "wowTokenAppendedData = []\n",
    "regions = ['NA', 'EU', 'CN', 'KR', 'TW']\n",
    "\n",
    "for entry in os.scandir('./input/wowtoken'):\n",
    "    if entry.is_file():\n",
    "        wowTokenEntry = pd.read_csv(entry.path)\n",
    "        wowTokenEntry['region'] = (os.path.splitext(entry.name)[0])\n",
    "        wowTokenEntry['date'] = pd.to_datetime(wowTokenEntry['date'])\n",
    "        wowTokenAppendedData.append(wowTokenEntry)\n",
    "        \n",
    "data = pd.concat(wowTokenAppendedData)"
   ]
  },
  {
   "cell_type": "code",
   "execution_count": 4,
   "metadata": {},
   "outputs": [
    {
     "data": {
      "text/html": [
       "<div>\n",
       "<style scoped>\n",
       "    .dataframe tbody tr th:only-of-type {\n",
       "        vertical-align: middle;\n",
       "    }\n",
       "\n",
       "    .dataframe tbody tr th {\n",
       "        vertical-align: top;\n",
       "    }\n",
       "\n",
       "    .dataframe thead th {\n",
       "        text-align: right;\n",
       "    }\n",
       "</style>\n",
       "<table border=\"1\" class=\"dataframe\">\n",
       "  <thead>\n",
       "    <tr style=\"text-align: right;\">\n",
       "      <th>region</th>\n",
       "      <th>CN</th>\n",
       "      <th>EU</th>\n",
       "      <th>KR</th>\n",
       "      <th>NA</th>\n",
       "      <th>TW</th>\n",
       "    </tr>\n",
       "  </thead>\n",
       "  <tbody>\n",
       "    <tr>\n",
       "      <th>count</th>\n",
       "      <td>6835.000000</td>\n",
       "      <td>7744.000000</td>\n",
       "      <td>7642.000000</td>\n",
       "      <td>7886.000000</td>\n",
       "      <td>7468.000000</td>\n",
       "    </tr>\n",
       "    <tr>\n",
       "      <th>mean</th>\n",
       "      <td>242416.955377</td>\n",
       "      <td>164289.345687</td>\n",
       "      <td>271204.557969</td>\n",
       "      <td>95573.815876</td>\n",
       "      <td>260885.958356</td>\n",
       "    </tr>\n",
       "    <tr>\n",
       "      <th>std</th>\n",
       "      <td>168907.809419</td>\n",
       "      <td>101425.233611</td>\n",
       "      <td>98936.313849</td>\n",
       "      <td>64075.637750</td>\n",
       "      <td>104487.473796</td>\n",
       "    </tr>\n",
       "    <tr>\n",
       "      <th>min</th>\n",
       "      <td>48604.000000</td>\n",
       "      <td>30352.000000</td>\n",
       "      <td>121305.000000</td>\n",
       "      <td>18296.000000</td>\n",
       "      <td>114619.000000</td>\n",
       "    </tr>\n",
       "    <tr>\n",
       "      <th>25%</th>\n",
       "      <td>83650.000000</td>\n",
       "      <td>68769.250000</td>\n",
       "      <td>179645.500000</td>\n",
       "      <td>37004.250000</td>\n",
       "      <td>174211.000000</td>\n",
       "    </tr>\n",
       "    <tr>\n",
       "      <th>50%</th>\n",
       "      <td>215554.000000</td>\n",
       "      <td>171327.000000</td>\n",
       "      <td>285099.500000</td>\n",
       "      <td>89460.500000</td>\n",
       "      <td>213519.000000</td>\n",
       "    </tr>\n",
       "    <tr>\n",
       "      <th>75%</th>\n",
       "      <td>400670.000000</td>\n",
       "      <td>256468.750000</td>\n",
       "      <td>350899.250000</td>\n",
       "      <td>163553.250000</td>\n",
       "      <td>335554.500000</td>\n",
       "    </tr>\n",
       "    <tr>\n",
       "      <th>max</th>\n",
       "      <td>586090.000000</td>\n",
       "      <td>401827.000000</td>\n",
       "      <td>595930.000000</td>\n",
       "      <td>238572.000000</td>\n",
       "      <td>501220.000000</td>\n",
       "    </tr>\n",
       "  </tbody>\n",
       "</table>\n",
       "</div>"
      ],
      "text/plain": [
       "region             CN             EU             KR             NA  \\\n",
       "count     6835.000000    7744.000000    7642.000000    7886.000000   \n",
       "mean    242416.955377  164289.345687  271204.557969   95573.815876   \n",
       "std     168907.809419  101425.233611   98936.313849   64075.637750   \n",
       "min      48604.000000   30352.000000  121305.000000   18296.000000   \n",
       "25%      83650.000000   68769.250000  179645.500000   37004.250000   \n",
       "50%     215554.000000  171327.000000  285099.500000   89460.500000   \n",
       "75%     400670.000000  256468.750000  350899.250000  163553.250000   \n",
       "max     586090.000000  401827.000000  595930.000000  238572.000000   \n",
       "\n",
       "region             TW  \n",
       "count     7468.000000  \n",
       "mean    260885.958356  \n",
       "std     104487.473796  \n",
       "min     114619.000000  \n",
       "25%     174211.000000  \n",
       "50%     213519.000000  \n",
       "75%     335554.500000  \n",
       "max     501220.000000  "
      ]
     },
     "execution_count": 4,
     "metadata": {},
     "output_type": "execute_result"
    }
   ],
   "source": [
    "data.pivot(columns='region', values='price').describe()"
   ]
  },
  {
   "cell_type": "code",
   "execution_count": 5,
   "metadata": {},
   "outputs": [
    {
     "data": {
      "text/html": [
       "<div>\n",
       "<style scoped>\n",
       "    .dataframe tbody tr th:only-of-type {\n",
       "        vertical-align: middle;\n",
       "    }\n",
       "\n",
       "    .dataframe tbody tr th {\n",
       "        vertical-align: top;\n",
       "    }\n",
       "\n",
       "    .dataframe thead th {\n",
       "        text-align: right;\n",
       "    }\n",
       "</style>\n",
       "<table border=\"1\" class=\"dataframe\">\n",
       "  <thead>\n",
       "    <tr style=\"text-align: right;\">\n",
       "      <th>region</th>\n",
       "      <th>CN</th>\n",
       "      <th>EU</th>\n",
       "      <th>KR</th>\n",
       "      <th>NA</th>\n",
       "      <th>TW</th>\n",
       "    </tr>\n",
       "  </thead>\n",
       "  <tbody>\n",
       "    <tr>\n",
       "      <th>count</th>\n",
       "      <td>1983.000000</td>\n",
       "      <td>2076.000000</td>\n",
       "      <td>2088.000000</td>\n",
       "      <td>2085.000000</td>\n",
       "      <td>2085.000000</td>\n",
       "    </tr>\n",
       "    <tr>\n",
       "      <th>mean</th>\n",
       "      <td>414124.769037</td>\n",
       "      <td>272073.894990</td>\n",
       "      <td>365853.373084</td>\n",
       "      <td>165006.325659</td>\n",
       "      <td>381305.507434</td>\n",
       "    </tr>\n",
       "    <tr>\n",
       "      <th>std</th>\n",
       "      <td>129721.911793</td>\n",
       "      <td>68360.274879</td>\n",
       "      <td>76882.410805</td>\n",
       "      <td>41141.510822</td>\n",
       "      <td>75199.125368</td>\n",
       "    </tr>\n",
       "    <tr>\n",
       "      <th>min</th>\n",
       "      <td>206304.000000</td>\n",
       "      <td>168106.000000</td>\n",
       "      <td>269461.000000</td>\n",
       "      <td>100993.000000</td>\n",
       "      <td>250412.000000</td>\n",
       "    </tr>\n",
       "    <tr>\n",
       "      <th>25%</th>\n",
       "      <td>229674.000000</td>\n",
       "      <td>184120.000000</td>\n",
       "      <td>298436.000000</td>\n",
       "      <td>111341.000000</td>\n",
       "      <td>284082.000000</td>\n",
       "    </tr>\n",
       "    <tr>\n",
       "      <th>50%</th>\n",
       "      <td>496259.000000</td>\n",
       "      <td>298415.500000</td>\n",
       "      <td>322257.500000</td>\n",
       "      <td>182392.000000</td>\n",
       "      <td>413693.000000</td>\n",
       "    </tr>\n",
       "    <tr>\n",
       "      <th>75%</th>\n",
       "      <td>507332.500000</td>\n",
       "      <td>336512.500000</td>\n",
       "      <td>441929.750000</td>\n",
       "      <td>199718.000000</td>\n",
       "      <td>441348.000000</td>\n",
       "    </tr>\n",
       "    <tr>\n",
       "      <th>max</th>\n",
       "      <td>586090.000000</td>\n",
       "      <td>401827.000000</td>\n",
       "      <td>595930.000000</td>\n",
       "      <td>238572.000000</td>\n",
       "      <td>501220.000000</td>\n",
       "    </tr>\n",
       "  </tbody>\n",
       "</table>\n",
       "</div>"
      ],
      "text/plain": [
       "region             CN             EU             KR             NA  \\\n",
       "count     1983.000000    2076.000000    2088.000000    2085.000000   \n",
       "mean    414124.769037  272073.894990  365853.373084  165006.325659   \n",
       "std     129721.911793   68360.274879   76882.410805   41141.510822   \n",
       "min     206304.000000  168106.000000  269461.000000  100993.000000   \n",
       "25%     229674.000000  184120.000000  298436.000000  111341.000000   \n",
       "50%     496259.000000  298415.500000  322257.500000  182392.000000   \n",
       "75%     507332.500000  336512.500000  441929.750000  199718.000000   \n",
       "max     586090.000000  401827.000000  595930.000000  238572.000000   \n",
       "\n",
       "region             TW  \n",
       "count     2085.000000  \n",
       "mean    381305.507434  \n",
       "std      75199.125368  \n",
       "min     250412.000000  \n",
       "25%     284082.000000  \n",
       "50%     413693.000000  \n",
       "75%     441348.000000  \n",
       "max     501220.000000  "
      ]
     },
     "execution_count": 5,
     "metadata": {},
     "output_type": "execute_result"
    }
   ],
   "source": [
    "data2018 = data.loc[data['date'].dt.year >= 2018].reset_index()\n",
    "data2018.pivot(columns='region', values='price').describe()"
   ]
  },
  {
   "cell_type": "code",
   "execution_count": 6,
   "metadata": {},
   "outputs": [
    {
     "data": {
      "text/html": [
       "<div>\n",
       "<style scoped>\n",
       "    .dataframe tbody tr th:only-of-type {\n",
       "        vertical-align: middle;\n",
       "    }\n",
       "\n",
       "    .dataframe tbody tr th {\n",
       "        vertical-align: top;\n",
       "    }\n",
       "\n",
       "    .dataframe thead th {\n",
       "        text-align: right;\n",
       "    }\n",
       "</style>\n",
       "<table border=\"1\" class=\"dataframe\">\n",
       "  <thead>\n",
       "    <tr style=\"text-align: right;\">\n",
       "      <th></th>\n",
       "      <th>date</th>\n",
       "      <th>price</th>\n",
       "      <th>region</th>\n",
       "      <th>unix_timestamp</th>\n",
       "    </tr>\n",
       "  </thead>\n",
       "  <tbody>\n",
       "    <tr>\n",
       "      <th>0</th>\n",
       "      <td>2015-05-06 22:04:08</td>\n",
       "      <td>250000</td>\n",
       "      <td>TW</td>\n",
       "      <td>1430949848</td>\n",
       "    </tr>\n",
       "    <tr>\n",
       "      <th>1</th>\n",
       "      <td>2015-05-07 02:04:09</td>\n",
       "      <td>275180</td>\n",
       "      <td>TW</td>\n",
       "      <td>1430964249</td>\n",
       "    </tr>\n",
       "    <tr>\n",
       "      <th>2</th>\n",
       "      <td>2015-05-07 06:04:01</td>\n",
       "      <td>308756</td>\n",
       "      <td>TW</td>\n",
       "      <td>1430978641</td>\n",
       "    </tr>\n",
       "    <tr>\n",
       "      <th>3</th>\n",
       "      <td>2015-05-07 10:04:03</td>\n",
       "      <td>342634</td>\n",
       "      <td>TW</td>\n",
       "      <td>1430993043</td>\n",
       "    </tr>\n",
       "    <tr>\n",
       "      <th>4</th>\n",
       "      <td>2015-05-07 14:05:10</td>\n",
       "      <td>328547</td>\n",
       "      <td>TW</td>\n",
       "      <td>1431007510</td>\n",
       "    </tr>\n",
       "  </tbody>\n",
       "</table>\n",
       "</div>"
      ],
      "text/plain": [
       "                 date   price region  unix_timestamp\n",
       "0 2015-05-06 22:04:08  250000     TW      1430949848\n",
       "1 2015-05-07 02:04:09  275180     TW      1430964249\n",
       "2 2015-05-07 06:04:01  308756     TW      1430978641\n",
       "3 2015-05-07 10:04:03  342634     TW      1430993043\n",
       "4 2015-05-07 14:05:10  328547     TW      1431007510"
      ]
     },
     "execution_count": 6,
     "metadata": {},
     "output_type": "execute_result"
    }
   ],
   "source": [
    "data['unix_timestamp'] = data['date'].astype(np.int64) // 10**9\n",
    "data.head()"
   ]
  },
  {
   "cell_type": "code",
   "execution_count": 7,
   "metadata": {},
   "outputs": [
    {
     "data": {
      "text/html": [
       "<div>\n",
       "<style scoped>\n",
       "    .dataframe tbody tr th:only-of-type {\n",
       "        vertical-align: middle;\n",
       "    }\n",
       "\n",
       "    .dataframe tbody tr th {\n",
       "        vertical-align: top;\n",
       "    }\n",
       "\n",
       "    .dataframe thead th {\n",
       "        text-align: right;\n",
       "    }\n",
       "</style>\n",
       "<table border=\"1\" class=\"dataframe\">\n",
       "  <thead>\n",
       "    <tr style=\"text-align: right;\">\n",
       "      <th></th>\n",
       "      <th>price</th>\n",
       "      <th>unix_timestamp</th>\n",
       "    </tr>\n",
       "  </thead>\n",
       "  <tbody>\n",
       "    <tr>\n",
       "      <th>0</th>\n",
       "      <td>30000</td>\n",
       "      <td>1428426758</td>\n",
       "    </tr>\n",
       "    <tr>\n",
       "      <th>1</th>\n",
       "      <td>30906</td>\n",
       "      <td>1428444242</td>\n",
       "    </tr>\n",
       "    <tr>\n",
       "      <th>2</th>\n",
       "      <td>28515</td>\n",
       "      <td>1428458642</td>\n",
       "    </tr>\n",
       "    <tr>\n",
       "      <th>3</th>\n",
       "      <td>25024</td>\n",
       "      <td>1428473042</td>\n",
       "    </tr>\n",
       "    <tr>\n",
       "      <th>4</th>\n",
       "      <td>24038</td>\n",
       "      <td>1428487477</td>\n",
       "    </tr>\n",
       "  </tbody>\n",
       "</table>\n",
       "</div>"
      ],
      "text/plain": [
       "   price  unix_timestamp\n",
       "0  30000      1428426758\n",
       "1  30906      1428444242\n",
       "2  28515      1428458642\n",
       "3  25024      1428473042\n",
       "4  24038      1428487477"
      ]
     },
     "execution_count": 7,
     "metadata": {},
     "output_type": "execute_result"
    }
   ],
   "source": [
    "dataNA = data.loc[data['region'] == 'NA'].drop(['date', 'region'], axis=1)\n",
    "dataNA.head()"
   ]
  },
  {
   "cell_type": "code",
   "execution_count": 8,
   "metadata": {},
   "outputs": [
    {
     "data": {
      "text/html": [
       "<div>\n",
       "<style scoped>\n",
       "    .dataframe tbody tr th:only-of-type {\n",
       "        vertical-align: middle;\n",
       "    }\n",
       "\n",
       "    .dataframe tbody tr th {\n",
       "        vertical-align: top;\n",
       "    }\n",
       "\n",
       "    .dataframe thead th {\n",
       "        text-align: right;\n",
       "    }\n",
       "</style>\n",
       "<table border=\"1\" class=\"dataframe\">\n",
       "  <thead>\n",
       "    <tr style=\"text-align: right;\">\n",
       "      <th></th>\n",
       "      <th>price</th>\n",
       "      <th>unix_timestamp</th>\n",
       "    </tr>\n",
       "  </thead>\n",
       "  <tbody>\n",
       "    <tr>\n",
       "      <th>0</th>\n",
       "      <td>48604</td>\n",
       "      <td>1430237030</td>\n",
       "    </tr>\n",
       "    <tr>\n",
       "      <th>1</th>\n",
       "      <td>61104</td>\n",
       "      <td>1430251200</td>\n",
       "    </tr>\n",
       "    <tr>\n",
       "      <th>2</th>\n",
       "      <td>66164</td>\n",
       "      <td>1430265599</td>\n",
       "    </tr>\n",
       "    <tr>\n",
       "      <th>3</th>\n",
       "      <td>73054</td>\n",
       "      <td>1430279997</td>\n",
       "    </tr>\n",
       "    <tr>\n",
       "      <th>4</th>\n",
       "      <td>70756</td>\n",
       "      <td>1430294397</td>\n",
       "    </tr>\n",
       "  </tbody>\n",
       "</table>\n",
       "</div>"
      ],
      "text/plain": [
       "   price  unix_timestamp\n",
       "0  48604      1430237030\n",
       "1  61104      1430251200\n",
       "2  66164      1430265599\n",
       "3  73054      1430279997\n",
       "4  70756      1430294397"
      ]
     },
     "execution_count": 8,
     "metadata": {},
     "output_type": "execute_result"
    }
   ],
   "source": [
    "dataCN = data.loc[data['region'] == 'CN'].drop(['date', 'region'], axis=1)\n",
    "dataCN.head()"
   ]
  },
  {
   "cell_type": "code",
   "execution_count": 9,
   "metadata": {},
   "outputs": [
    {
     "data": {
      "text/html": [
       "<div>\n",
       "<style scoped>\n",
       "    .dataframe tbody tr th:only-of-type {\n",
       "        vertical-align: middle;\n",
       "    }\n",
       "\n",
       "    .dataframe tbody tr th {\n",
       "        vertical-align: top;\n",
       "    }\n",
       "\n",
       "    .dataframe thead th {\n",
       "        text-align: right;\n",
       "    }\n",
       "</style>\n",
       "<table border=\"1\" class=\"dataframe\">\n",
       "  <thead>\n",
       "    <tr style=\"text-align: right;\">\n",
       "      <th></th>\n",
       "      <th>price</th>\n",
       "      <th>unix_timestamp</th>\n",
       "    </tr>\n",
       "  </thead>\n",
       "  <tbody>\n",
       "    <tr>\n",
       "      <th>0</th>\n",
       "      <td>35000</td>\n",
       "      <td>1429628705</td>\n",
       "    </tr>\n",
       "    <tr>\n",
       "      <th>1</th>\n",
       "      <td>41041</td>\n",
       "      <td>1429643104</td>\n",
       "    </tr>\n",
       "    <tr>\n",
       "      <th>2</th>\n",
       "      <td>44392</td>\n",
       "      <td>1429657504</td>\n",
       "    </tr>\n",
       "    <tr>\n",
       "      <th>3</th>\n",
       "      <td>41265</td>\n",
       "      <td>1429671904</td>\n",
       "    </tr>\n",
       "    <tr>\n",
       "      <th>4</th>\n",
       "      <td>40361</td>\n",
       "      <td>1429686304</td>\n",
       "    </tr>\n",
       "  </tbody>\n",
       "</table>\n",
       "</div>"
      ],
      "text/plain": [
       "   price  unix_timestamp\n",
       "0  35000      1429628705\n",
       "1  41041      1429643104\n",
       "2  44392      1429657504\n",
       "3  41265      1429671904\n",
       "4  40361      1429686304"
      ]
     },
     "execution_count": 9,
     "metadata": {},
     "output_type": "execute_result"
    }
   ],
   "source": [
    "dataEU = data.loc[data['region'] == 'EU'].drop(['date', 'region'], axis=1)\n",
    "dataEU.head()"
   ]
  },
  {
   "cell_type": "code",
   "execution_count": 10,
   "metadata": {},
   "outputs": [
    {
     "data": {
      "text/html": [
       "<div>\n",
       "<style scoped>\n",
       "    .dataframe tbody tr th:only-of-type {\n",
       "        vertical-align: middle;\n",
       "    }\n",
       "\n",
       "    .dataframe tbody tr th {\n",
       "        vertical-align: top;\n",
       "    }\n",
       "\n",
       "    .dataframe thead th {\n",
       "        text-align: right;\n",
       "    }\n",
       "</style>\n",
       "<table border=\"1\" class=\"dataframe\">\n",
       "  <thead>\n",
       "    <tr style=\"text-align: right;\">\n",
       "      <th></th>\n",
       "      <th>price</th>\n",
       "      <th>unix_timestamp</th>\n",
       "    </tr>\n",
       "  </thead>\n",
       "  <tbody>\n",
       "    <tr>\n",
       "      <th>0</th>\n",
       "      <td>123523</td>\n",
       "      <td>1430956079</td>\n",
       "    </tr>\n",
       "    <tr>\n",
       "      <th>1</th>\n",
       "      <td>138673</td>\n",
       "      <td>1430970314</td>\n",
       "    </tr>\n",
       "    <tr>\n",
       "      <th>2</th>\n",
       "      <td>155646</td>\n",
       "      <td>1430984701</td>\n",
       "    </tr>\n",
       "    <tr>\n",
       "      <th>3</th>\n",
       "      <td>174452</td>\n",
       "      <td>1430999118</td>\n",
       "    </tr>\n",
       "    <tr>\n",
       "      <th>4</th>\n",
       "      <td>179163</td>\n",
       "      <td>1431013518</td>\n",
       "    </tr>\n",
       "  </tbody>\n",
       "</table>\n",
       "</div>"
      ],
      "text/plain": [
       "    price  unix_timestamp\n",
       "0  123523      1430956079\n",
       "1  138673      1430970314\n",
       "2  155646      1430984701\n",
       "3  174452      1430999118\n",
       "4  179163      1431013518"
      ]
     },
     "execution_count": 10,
     "metadata": {},
     "output_type": "execute_result"
    }
   ],
   "source": [
    "dataKR = data.loc[data['region'] == 'KR'].drop(['date', 'region'], axis=1)\n",
    "dataKR.head()"
   ]
  },
  {
   "cell_type": "code",
   "execution_count": 11,
   "metadata": {},
   "outputs": [
    {
     "data": {
      "text/html": [
       "<div>\n",
       "<style scoped>\n",
       "    .dataframe tbody tr th:only-of-type {\n",
       "        vertical-align: middle;\n",
       "    }\n",
       "\n",
       "    .dataframe tbody tr th {\n",
       "        vertical-align: top;\n",
       "    }\n",
       "\n",
       "    .dataframe thead th {\n",
       "        text-align: right;\n",
       "    }\n",
       "</style>\n",
       "<table border=\"1\" class=\"dataframe\">\n",
       "  <thead>\n",
       "    <tr style=\"text-align: right;\">\n",
       "      <th></th>\n",
       "      <th>price</th>\n",
       "      <th>unix_timestamp</th>\n",
       "    </tr>\n",
       "  </thead>\n",
       "  <tbody>\n",
       "    <tr>\n",
       "      <th>0</th>\n",
       "      <td>250000</td>\n",
       "      <td>1430949848</td>\n",
       "    </tr>\n",
       "    <tr>\n",
       "      <th>1</th>\n",
       "      <td>275180</td>\n",
       "      <td>1430964249</td>\n",
       "    </tr>\n",
       "    <tr>\n",
       "      <th>2</th>\n",
       "      <td>308756</td>\n",
       "      <td>1430978641</td>\n",
       "    </tr>\n",
       "    <tr>\n",
       "      <th>3</th>\n",
       "      <td>342634</td>\n",
       "      <td>1430993043</td>\n",
       "    </tr>\n",
       "    <tr>\n",
       "      <th>4</th>\n",
       "      <td>328547</td>\n",
       "      <td>1431007510</td>\n",
       "    </tr>\n",
       "  </tbody>\n",
       "</table>\n",
       "</div>"
      ],
      "text/plain": [
       "    price  unix_timestamp\n",
       "0  250000      1430949848\n",
       "1  275180      1430964249\n",
       "2  308756      1430978641\n",
       "3  342634      1430993043\n",
       "4  328547      1431007510"
      ]
     },
     "execution_count": 11,
     "metadata": {},
     "output_type": "execute_result"
    }
   ],
   "source": [
    "dataTW = data.loc[data['region'] == 'TW'].drop(['date', 'region'], axis=1)\n",
    "dataTW.head()"
   ]
  },
  {
   "cell_type": "code",
   "execution_count": 12,
   "metadata": {},
   "outputs": [],
   "source": [
    "def normalize_price(prices):\n",
    "    minPrice = min(prices)\n",
    "    maxPrice = max(prices)\n",
    "    \n",
    "    normalized_prices = list(map(lambda p: (p-minPrice)/(maxPrice-minPrice), prices))\n",
    "    \n",
    "    return normalized_prices"
   ]
  },
  {
   "cell_type": "code",
   "execution_count": 13,
   "metadata": {},
   "outputs": [],
   "source": [
    "dataNA['norm_price'] = normalize_price(dataNA['price'])\n",
    "dataCN['norm_price'] = normalize_price(dataCN['price'])\n",
    "dataEU['norm_price'] = normalize_price(dataEU['price'])\n",
    "dataKR['norm_price'] = normalize_price(dataKR['price'])\n",
    "dataTW['norm_price'] = normalize_price(dataTW['price'])"
   ]
  },
  {
   "cell_type": "code",
   "execution_count": 14,
   "metadata": {},
   "outputs": [
    {
     "data": {
      "text/plain": [
       "count    7886.000000\n",
       "mean        0.350823\n",
       "std         0.290888\n",
       "min         0.000000\n",
       "25%         0.084931\n",
       "50%         0.323070\n",
       "75%         0.659433\n",
       "max         1.000000\n",
       "Name: norm_price, dtype: float64"
      ]
     },
     "execution_count": 14,
     "metadata": {},
     "output_type": "execute_result"
    }
   ],
   "source": [
    "dataNA['norm_price'].describe()"
   ]
  },
  {
   "cell_type": "code",
   "execution_count": 15,
   "metadata": {},
   "outputs": [
    {
     "data": {
      "text/plain": [
       "count    6835.000000\n",
       "mean        0.360592\n",
       "std         0.314255\n",
       "min         0.000000\n",
       "25%         0.065204\n",
       "50%         0.310613\n",
       "75%         0.655024\n",
       "max         1.000000\n",
       "Name: norm_price, dtype: float64"
      ]
     },
     "execution_count": 15,
     "metadata": {},
     "output_type": "execute_result"
    }
   ],
   "source": [
    "dataCN['norm_price'].describe()"
   ]
  },
  {
   "cell_type": "code",
   "execution_count": 16,
   "metadata": {},
   "outputs": [
    {
     "data": {
      "text/plain": [
       "count    7744.000000\n",
       "mean        0.360555\n",
       "std         0.273034\n",
       "min         0.000000\n",
       "25%         0.103418\n",
       "50%         0.379501\n",
       "75%         0.608700\n",
       "max         1.000000\n",
       "Name: norm_price, dtype: float64"
      ]
     },
     "execution_count": 16,
     "metadata": {},
     "output_type": "execute_result"
    }
   ],
   "source": [
    "dataEU['norm_price'].describe()"
   ]
  },
  {
   "cell_type": "code",
   "execution_count": 17,
   "metadata": {},
   "outputs": [
    {
     "data": {
      "text/plain": [
       "count    7642.000000\n",
       "mean        0.315827\n",
       "std         0.208452\n",
       "min         0.000000\n",
       "25%         0.122919\n",
       "50%         0.345103\n",
       "75%         0.483738\n",
       "max         1.000000\n",
       "Name: norm_price, dtype: float64"
      ]
     },
     "execution_count": 17,
     "metadata": {},
     "output_type": "execute_result"
    }
   ],
   "source": [
    "dataKR['norm_price'].describe()"
   ]
  },
  {
   "cell_type": "code",
   "execution_count": 18,
   "metadata": {},
   "outputs": [
    {
     "data": {
      "text/plain": [
       "count    7468.000000\n",
       "mean        0.378341\n",
       "std         0.270272\n",
       "min         0.000000\n",
       "25%         0.154143\n",
       "50%         0.255819\n",
       "75%         0.571482\n",
       "max         1.000000\n",
       "Name: norm_price, dtype: float64"
      ]
     },
     "execution_count": 18,
     "metadata": {},
     "output_type": "execute_result"
    }
   ],
   "source": [
    "dataTW['norm_price'].describe()"
   ]
  },
  {
   "cell_type": "markdown",
   "metadata": {},
   "source": [
    "## Basic Model\n",
    "\n",
    "This model will predict the next price rise/decrease using the last price variation."
   ]
  },
  {
   "cell_type": "code",
   "execution_count": 19,
   "metadata": {},
   "outputs": [],
   "source": [
    "class BasicModel:\n",
    "    def __init__(self):\n",
    "        self.currentPrediction = 0 # 1 for rise, 0 for decrease\n",
    "        self.lastPrice = 0\n",
    "        \n",
    "    def make_next_prediction(self, current_price):\n",
    "        self.currentPrediction = 1 if self.lastPrice <= current_price else 0\n",
    "        self.lastPrice = current_price\n",
    "        return self.currentPrediction\n",
    "    \n",
    "    def measure_accuracy(self, prices):\n",
    "        realVariation = 0 # 1 for rise, 0 for decrease\n",
    "        lastPrice = 0\n",
    "        correctPredictions = 0\n",
    "        for price in prices:\n",
    "            realVariation = 1 if lastPrice <= price else 0\n",
    "            \n",
    "            pred = self.make_next_prediction(price)\n",
    "            correctPredictions += 1 if pred == realVariation else 0\n",
    "            \n",
    "        return correctPredictions/len(prices)\n",
    "    \n",
    "            \n",
    "model = BasicModel()"
   ]
  },
  {
   "cell_type": "code",
   "execution_count": 20,
   "metadata": {},
   "outputs": [],
   "source": [
    "basicModelAccuracyNA = model.measure_accuracy(dataNA['norm_price'])\n",
    "basicModelAccuracyCN = model.measure_accuracy(dataCN['norm_price'])\n",
    "basicModelAccuracyEU = model.measure_accuracy(dataEU['norm_price'])\n",
    "basicModelAccuracyKR = model.measure_accuracy(dataKR['norm_price'])\n",
    "basicModelAccuracyTW = model.measure_accuracy(dataTW['norm_price'])"
   ]
  },
  {
   "cell_type": "markdown",
   "metadata": {},
   "source": [
    "## Random Model\n",
    "\n",
    "This model will predict the next price rise/decrease randomly."
   ]
  },
  {
   "cell_type": "code",
   "execution_count": 21,
   "metadata": {},
   "outputs": [],
   "source": [
    "np.random.seed(1212)\n",
    "\n",
    "class RandomModel:\n",
    "    def __init__(self):\n",
    "        self.currentPrediction = 0 # 1 for rise, 0 for decrease\n",
    "        \n",
    "    def make_next_prediction(self, current_price):\n",
    "        self.currentPrediction = np.random.randint(2) # randomly gets 0 or 1\n",
    "        return self.currentPrediction\n",
    "    \n",
    "    def measure_accuracy(self, prices):\n",
    "        realVariation = 0 # 1 for rise, 0 for decrease\n",
    "        lastPrice = 0\n",
    "        correctPredictions = 0\n",
    "        for price in prices:\n",
    "            realVariation = 1 if lastPrice <= price else 0\n",
    "            \n",
    "            pred = self.make_next_prediction(price)\n",
    "            correctPredictions += 1 if pred == realVariation else 0\n",
    "            \n",
    "        return correctPredictions/len(prices)\n",
    "    \n",
    "            \n",
    "model = RandomModel()"
   ]
  },
  {
   "cell_type": "code",
   "execution_count": 22,
   "metadata": {},
   "outputs": [],
   "source": [
    "randomModelAccuracyNA = model.measure_accuracy(dataNA['norm_price'])\n",
    "randomModelAccuracyCN = model.measure_accuracy(dataCN['norm_price'])\n",
    "randomModelAccuracyEU = model.measure_accuracy(dataEU['norm_price'])\n",
    "randomModelAccuracyKR = model.measure_accuracy(dataKR['norm_price'])\n",
    "randomModelAccuracyTW = model.measure_accuracy(dataTW['norm_price'])"
   ]
  },
  {
   "cell_type": "markdown",
   "metadata": {},
   "source": [
    "## Models Accuracy"
   ]
  },
  {
   "cell_type": "code",
   "execution_count": 23,
   "metadata": {},
   "outputs": [
    {
     "name": "stdout",
     "output_type": "stream",
     "text": [
      "--------------------------------------------------------\n",
      "Model\t\t\t\tRegion\t\tAccuracy\n",
      "--------------------------------------------------------\n",
      "Basic Prediction Model\t\tNA\t\t0.512300\n",
      "Random Prediction Model\t\tNA\t\t0.489855\n",
      "Basic Prediction Model\t\tCN\t\t0.485296\n",
      "Random Prediction Model\t\tCN\t\t0.501683\n",
      "Basic Prediction Model\t\tEU\t\t0.492123\n",
      "Random Prediction Model\t\tEU\t\t0.498838\n",
      "Basic Prediction Model\t\tKR\t\t0.495289\n",
      "Random Prediction Model\t\tKR\t\t0.501963\n",
      "Basic Prediction Model\t\tTW\t\t0.492501\n",
      "Random Prediction Model\t\tTW\t\t0.503214\n",
      "--------------------------------------------------------\n"
     ]
    }
   ],
   "source": [
    "print('-'*56)\n",
    "print('Model\\t\\t\\t\\tRegion\\t\\tAccuracy')\n",
    "print('-'*56)\n",
    "print('Basic Prediction Model\\t\\tNA\\t\\t%.6f' %basicModelAccuracyNA)\n",
    "print('Random Prediction Model\\t\\tNA\\t\\t%.6f' %randomModelAccuracyNA)\n",
    "print('Basic Prediction Model\\t\\tCN\\t\\t%.6f' %basicModelAccuracyCN)\n",
    "print('Random Prediction Model\\t\\tCN\\t\\t%.6f' %randomModelAccuracyCN)\n",
    "print('Basic Prediction Model\\t\\tEU\\t\\t%.6f' %basicModelAccuracyEU)\n",
    "print('Random Prediction Model\\t\\tEU\\t\\t%.6f' %randomModelAccuracyEU)\n",
    "print('Basic Prediction Model\\t\\tKR\\t\\t%.6f' %basicModelAccuracyKR)\n",
    "print('Random Prediction Model\\t\\tKR\\t\\t%.6f' %randomModelAccuracyKR)\n",
    "print('Basic Prediction Model\\t\\tTW\\t\\t%.6f' %basicModelAccuracyTW)\n",
    "print('Random Prediction Model\\t\\tTW\\t\\t%.6f' %randomModelAccuracyTW)\n",
    "print('-'*56)"
   ]
  }
 ],
 "metadata": {
  "kernelspec": {
   "display_name": "Python 3",
   "language": "python",
   "name": "python3"
  },
  "language_info": {
   "codemirror_mode": {
    "name": "ipython",
    "version": 3
   },
   "file_extension": ".py",
   "mimetype": "text/x-python",
   "name": "python",
   "nbconvert_exporter": "python",
   "pygments_lexer": "ipython3",
   "version": "3.7.0"
  }
 },
 "nbformat": 4,
 "nbformat_minor": 2
}
